{
  "nbformat": 4,
  "nbformat_minor": 0,
  "metadata": {
    "colab": {
      "provenance": [],
      "authorship_tag": "ABX9TyMelb7gW1d7L8k4XzBbHtG6",
      "include_colab_link": true
    },
    "kernelspec": {
      "name": "python3",
      "display_name": "Python 3"
    },
    "language_info": {
      "name": "python"
    }
  },
  "cells": [
    {
      "cell_type": "markdown",
      "metadata": {
        "id": "view-in-github",
        "colab_type": "text"
      },
      "source": [
        "<a href=\"https://colab.research.google.com/github/aishwaryasuradkar/PRODIGY_DS_02/blob/main/TASK_2.ipynb\" target=\"_parent\"><img src=\"https://colab.research.google.com/assets/colab-badge.svg\" alt=\"Open In Colab\"/></a>"
      ]
    },
    {
      "cell_type": "markdown",
      "source": [
        "STEP-1: LOADING THE DATASET"
      ],
      "metadata": {
        "id": "Ot-szevet5rF"
      }
    },
    {
      "cell_type": "code",
      "execution_count": null,
      "metadata": {
        "id": "UgOZ2q5otp8w"
      },
      "outputs": [],
      "source": [
        "import pandas as pd\n",
        "import seaborn as sns\n",
        "import matplotlib.pyplot as plt\n",
        "\n",
        "\n",
        "#loading the titanic dataset\n",
        "url = \"https://web.stanford.edu/class/archive/cs/cs109/cs109.1166/stuff/titanic.csv\"\n",
        "titanic_dataset = pd.read_csv(url)\n",
        "\n",
        "\n",
        "#Diaplay the dataset\n",
        "print(titanic_dataset.head())\n"
      ]
    },
    {
      "cell_type": "markdown",
      "source": [
        "STEP-2: DATA CLEANING\n",
        " -> Identify and handle the missing     \n",
        "    values in the dataset"
      ],
      "metadata": {
        "id": "BF22JoHJupS-"
      }
    },
    {
      "cell_type": "code",
      "source": [
        "\n",
        "# Print the column names to verify the correct column names in your dataset\n",
        "# print(titanic_dataset.columns)\n",
        "\n",
        "\n",
        "#fill missing 'Age' values with median\n",
        "titanic_dataset['Age'].fillna(titanic_dataset['Age'].median(), inplace = True)\n",
        "\n",
        "\n",
        "#Drop rows with missing 'Embarked'values\n",
        "# titanic_dataset.dropna(subset=['Embarked'], inplace = True)\n",
        "\n",
        "\n",
        "# #Verify the changes\n",
        "print(titanic_dataset.isnull().sum())"
      ],
      "metadata": {
        "id": "NlgYhjbFur6d"
      },
      "execution_count": null,
      "outputs": []
    },
    {
      "cell_type": "markdown",
      "source": [
        "STEP-3: DATA TRANSFORMATION -> Convert\n",
        "              categorical variables into numerical values"
      ],
      "metadata": {
        "id": "w1K6aOAdwkFL"
      }
    },
    {
      "cell_type": "code",
      "source": [
        "#Convert'Sex'to numerical values\n",
        "titanic_dataset['Sex'] = titanic_dataset['Sex'].map({'male': 0, 'female':1})\n",
        "\n",
        "# titanic_datset = pd.get_dummies(titanic_data, columns = ['Embarked'], drop_first= True)"
      ],
      "metadata": {
        "id": "9c_8X9Ymw0Va"
      },
      "execution_count": 5,
      "outputs": []
    },
    {
      "cell_type": "markdown",
      "source": [
        "STEP-3: EXPLORATORY DATA ANALYSIS (EDA)"
      ],
      "metadata": {
        "id": "FlGbhdpP1wfi"
      }
    },
    {
      "cell_type": "code",
      "source": [
        "#1.Statistical Summary\n",
        "print(titanic_dataset.describe())"
      ],
      "metadata": {
        "id": "IjZe65MF2Eja"
      },
      "execution_count": null,
      "outputs": []
    },
    {
      "cell_type": "code",
      "source": [
        "#2.visalization\n",
        "# Correlation Heatmap\n",
        "correlation_matrix = titanic_dataset.corr()\n",
        "plt.figure(figsize=(10,8))\n",
        "sns.heatmap(correlation_matrix, annot = True, cmap = 'coolwarm', fmt = \".2f\")\n",
        "\n",
        "plt.title(\"Correlation Heatmap\")\n",
        "plt.show()"
      ],
      "metadata": {
        "id": "mUHtS_Dl2tmj"
      },
      "execution_count": null,
      "outputs": []
    },
    {
      "cell_type": "code",
      "source": [
        "#3.Survival rate analysis by gender\n",
        "sns.barplot(x='Sex', y='Survived', data = titanic_dataset, palette = 'husl');\n",
        "plt.xlabel('Sex (0 - Male, 1 - Female)')\n",
        "plt.ylabel('Survival Rate')\n",
        "plt.title('Survival Rate by Gender')\n",
        "plt.show()"
      ],
      "metadata": {
        "id": "2St-LbbPBmgd"
      },
      "execution_count": null,
      "outputs": []
    },
    {
      "cell_type": "code",
      "source": [
        "#4. Survival rate by class\n",
        "sns.barplot(x='Pclass', y='Survived', data=titanic_dataset, palette='pastel')\n",
        "plt.xlabel('Class')\n",
        "plt.ylabel('Survival Rate')\n",
        "plt.title('Survival Rate by Class')\n",
        "plt.show()"
      ],
      "metadata": {
        "id": "a0AjhaPECMru"
      },
      "execution_count": null,
      "outputs": []
    },
    {
      "cell_type": "code",
      "source": [
        "#5.Histogram for age distribution\n",
        "plt.subplot(1,2,1)\n",
        "sns.histplot(titanic_dataset['Age'].dropna(), kde=True, color='skyblue')\n",
        "plt.xlabel('Age')\n",
        "plt.title('Age distribution')\n",
        "plt.show()"
      ],
      "metadata": {
        "id": "kK8ZqcHECaKo"
      },
      "execution_count": null,
      "outputs": []
    },
    {
      "cell_type": "code",
      "source": [
        "#6. Bivariate Analysis\n",
        "plt.figure(figsize=(10,5))\n",
        "plt.show()"
      ],
      "metadata": {
        "colab": {
          "base_uri": "https://localhost:8080/",
          "height": 35
        },
        "id": "5f4CTNRTPPlP",
        "outputId": "2b81a37a-e40c-4c99-a1b9-095f57d1e307"
      },
      "execution_count": 12,
      "outputs": [
        {
          "output_type": "display_data",
          "data": {
            "text/plain": [
              "<Figure size 1000x500 with 0 Axes>"
            ]
          },
          "metadata": {}
        }
      ]
    },
    {
      "cell_type": "code",
      "source": [
        "#7.Box plaot for Sex vs Survived\n",
        "sns.boxplot(x='Survived', y='Age', data = titanic_dataset, palette='Set2')\n",
        "plt.xlabel('Survived')\n",
        "plt.ylabel('Age')\n",
        "plt.title('Age distribution by Survival Status')\n",
        "plt.show()"
      ],
      "metadata": {
        "id": "htNjaPKZQpye"
      },
      "execution_count": null,
      "outputs": []
    },
    {
      "cell_type": "code",
      "source": [
        "#8. Count plot for Passenger class distribution\n",
        "plt.subplot(1, 2, 2)\n",
        "sns.countplot(x='Pclass', data=titanic_dataset, palette='pastel')\n",
        "plt.xlabel('Class')\n",
        "plt.title('Passenger Class Distribution')\n",
        "\n",
        "plt.tight_layout()\n",
        "plt.show()"
      ],
      "metadata": {
        "id": "lnhmQXURRd_L"
      },
      "execution_count": null,
      "outputs": []
    },
    {
      "cell_type": "markdown",
      "source": [],
      "metadata": {
        "id": "rqPj7xRUBBJc"
      }
    }
  ]
}